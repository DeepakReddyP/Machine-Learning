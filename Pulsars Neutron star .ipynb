{
 "cells": [
  {
   "cell_type": "markdown",
   "id": "fd6bc9db",
   "metadata": {},
   "source": [
    "#### The Pulsar Classification Problem\n",
    "* In order to classify a data sample as a pulsar or not a pulsar, we need to be able to extract some information on the data sample that can characterise its class. The individual bursts of emission from a pulsar (i.e. the pulses) do not have a constant shape or amplitude, so individually they’re not very useful for uniquely identifying a pulsar."
   ]
  },
  {
   "cell_type": "markdown",
   "id": "1f9c3837",
   "metadata": {},
   "source": [
    "## Step 1: Importing the Relevant Libraries"
   ]
  },
  {
   "cell_type": "code",
   "execution_count": 1,
   "id": "a6415023",
   "metadata": {},
   "outputs": [
    {
     "name": "stderr",
     "output_type": "stream",
     "text": [
      "C:\\Users\\seema.patil03\\Anaconda3\\lib\\site-packages\\scipy\\__init__.py:138: UserWarning: A NumPy version >=1.16.5 and <1.23.0 is required for this version of SciPy (detected version 1.23.1)\n",
      "  warnings.warn(f\"A NumPy version >={np_minversion} and <{np_maxversion} is required for this version of \"\n"
     ]
    }
   ],
   "source": [
    "import matplotlib.pyplot as plt\n",
    "import pandas as pd\n",
    "import numpy as np\n",
    "import seaborn as sns\n",
    "\n",
    "from sklearn.preprocessing import LabelEncoder\n",
    "from sklearn.model_selection import train_test_split\n",
    "from sklearn import metrics\n",
    "\n",
    "\n",
    "import warnings\n",
    "warnings.filterwarnings('always')\n",
    "warnings.filterwarnings('ignore')"
   ]
  },
  {
   "cell_type": "markdown",
   "id": "6675be72",
   "metadata": {},
   "source": [
    "## Step 2: Data Inspection"
   ]
  },
  {
   "cell_type": "code",
   "execution_count": 2,
   "id": "f833b3d1",
   "metadata": {},
   "outputs": [],
   "source": [
    "#importing data into a pandas DataFrame\n",
    "df =pd.read_csv('HTRU_2.csv',header=None)"
   ]
  },
  {
   "cell_type": "code",
   "execution_count": 3,
   "id": "df3514ea",
   "metadata": {},
   "outputs": [
    {
     "data": {
      "text/html": [
       "<div>\n",
       "<style scoped>\n",
       "    .dataframe tbody tr th:only-of-type {\n",
       "        vertical-align: middle;\n",
       "    }\n",
       "\n",
       "    .dataframe tbody tr th {\n",
       "        vertical-align: top;\n",
       "    }\n",
       "\n",
       "    .dataframe thead th {\n",
       "        text-align: right;\n",
       "    }\n",
       "</style>\n",
       "<table border=\"1\" class=\"dataframe\">\n",
       "  <thead>\n",
       "    <tr style=\"text-align: right;\">\n",
       "      <th></th>\n",
       "      <th>0</th>\n",
       "      <th>1</th>\n",
       "      <th>2</th>\n",
       "      <th>3</th>\n",
       "      <th>4</th>\n",
       "      <th>5</th>\n",
       "      <th>6</th>\n",
       "      <th>7</th>\n",
       "      <th>8</th>\n",
       "    </tr>\n",
       "  </thead>\n",
       "  <tbody>\n",
       "    <tr>\n",
       "      <th>0</th>\n",
       "      <td>140.562500</td>\n",
       "      <td>55.683782</td>\n",
       "      <td>-0.234571</td>\n",
       "      <td>-0.699648</td>\n",
       "      <td>3.199833</td>\n",
       "      <td>19.110426</td>\n",
       "      <td>7.975532</td>\n",
       "      <td>74.242225</td>\n",
       "      <td>0</td>\n",
       "    </tr>\n",
       "    <tr>\n",
       "      <th>1</th>\n",
       "      <td>102.507812</td>\n",
       "      <td>58.882430</td>\n",
       "      <td>0.465318</td>\n",
       "      <td>-0.515088</td>\n",
       "      <td>1.677258</td>\n",
       "      <td>14.860146</td>\n",
       "      <td>10.576487</td>\n",
       "      <td>127.393580</td>\n",
       "      <td>0</td>\n",
       "    </tr>\n",
       "    <tr>\n",
       "      <th>2</th>\n",
       "      <td>103.015625</td>\n",
       "      <td>39.341649</td>\n",
       "      <td>0.323328</td>\n",
       "      <td>1.051164</td>\n",
       "      <td>3.121237</td>\n",
       "      <td>21.744669</td>\n",
       "      <td>7.735822</td>\n",
       "      <td>63.171909</td>\n",
       "      <td>0</td>\n",
       "    </tr>\n",
       "    <tr>\n",
       "      <th>3</th>\n",
       "      <td>136.750000</td>\n",
       "      <td>57.178449</td>\n",
       "      <td>-0.068415</td>\n",
       "      <td>-0.636238</td>\n",
       "      <td>3.642977</td>\n",
       "      <td>20.959280</td>\n",
       "      <td>6.896499</td>\n",
       "      <td>53.593661</td>\n",
       "      <td>0</td>\n",
       "    </tr>\n",
       "    <tr>\n",
       "      <th>4</th>\n",
       "      <td>88.726562</td>\n",
       "      <td>40.672225</td>\n",
       "      <td>0.600866</td>\n",
       "      <td>1.123492</td>\n",
       "      <td>1.178930</td>\n",
       "      <td>11.468720</td>\n",
       "      <td>14.269573</td>\n",
       "      <td>252.567306</td>\n",
       "      <td>0</td>\n",
       "    </tr>\n",
       "  </tbody>\n",
       "</table>\n",
       "</div>"
      ],
      "text/plain": [
       "            0          1         2         3         4          5          6  \\\n",
       "0  140.562500  55.683782 -0.234571 -0.699648  3.199833  19.110426   7.975532   \n",
       "1  102.507812  58.882430  0.465318 -0.515088  1.677258  14.860146  10.576487   \n",
       "2  103.015625  39.341649  0.323328  1.051164  3.121237  21.744669   7.735822   \n",
       "3  136.750000  57.178449 -0.068415 -0.636238  3.642977  20.959280   6.896499   \n",
       "4   88.726562  40.672225  0.600866  1.123492  1.178930  11.468720  14.269573   \n",
       "\n",
       "            7  8  \n",
       "0   74.242225  0  \n",
       "1  127.393580  0  \n",
       "2   63.171909  0  \n",
       "3   53.593661  0  \n",
       "4  252.567306  0  "
      ]
     },
     "execution_count": 3,
     "metadata": {},
     "output_type": "execute_result"
    }
   ],
   "source": [
    "df.head()"
   ]
  },
  {
   "cell_type": "markdown",
   "id": "a7c1bb2f",
   "metadata": {},
   "source": [
    " * Because the individual pulses are all different, astronomers stack them up and create an average integrated pulse profile to characterise a particular pulsar:"
   ]
  },
  {
   "cell_type": "markdown",
   "id": "1435a724",
   "metadata": {},
   "source": [
    "* Additionally the pulse will arrive at different times across different radio frequencies. The delay from frequency to frequency is caused by the ionised inter-stellar medium and is known as the dispersion. It looks like this:\n",
    "\n"
   ]
  },
  {
   "cell_type": "markdown",
   "id": "7a04471a",
   "metadata": {},
   "source": [
    "* Astronomers fit for the shape of the delay in order to compensate for its effect, but there’s always an uncertainty associated with the fit. That is expressed in the DM-SNR (“dispersion-measure-signal-to-noise-ratio”) curve, which looks like this:\n",
    "\n"
   ]
  },
  {
   "cell_type": "markdown",
   "id": "c05f2ae4",
   "metadata": {},
   "source": [
    "* When you put these two curves together it means that for each pulsar candidate there are eight numerical characteristic features that can be extracted as standard: four from the integrated pulse profile and four from the DM-SNR curve:\n",
    "\n"
   ]
  },
  {
   "cell_type": "code",
   "execution_count": 4,
   "id": "c577db83",
   "metadata": {},
   "outputs": [
    {
     "data": {
      "text/plain": [
       "(17898, 9)"
      ]
     },
     "execution_count": 4,
     "metadata": {},
     "output_type": "execute_result"
    }
   ],
   "source": [
    "df.shape"
   ]
  },
  {
   "cell_type": "markdown",
   "id": "cfbe248f",
   "metadata": {},
   "source": [
    "* Dataset has 17898 rows and 9 columns including features and labels"
   ]
  },
  {
   "cell_type": "code",
   "execution_count": 5,
   "id": "83bbd9ae",
   "metadata": {},
   "outputs": [
    {
     "data": {
      "text/html": [
       "<div>\n",
       "<style scoped>\n",
       "    .dataframe tbody tr th:only-of-type {\n",
       "        vertical-align: middle;\n",
       "    }\n",
       "\n",
       "    .dataframe tbody tr th {\n",
       "        vertical-align: top;\n",
       "    }\n",
       "\n",
       "    .dataframe thead th {\n",
       "        text-align: right;\n",
       "    }\n",
       "</style>\n",
       "<table border=\"1\" class=\"dataframe\">\n",
       "  <thead>\n",
       "    <tr style=\"text-align: right;\">\n",
       "      <th></th>\n",
       "      <th>Mean_IP</th>\n",
       "      <th>SD_IP</th>\n",
       "      <th>Excess kurtosis_IP</th>\n",
       "      <th>Skewness_IP</th>\n",
       "      <th>Mean_DM-SNR</th>\n",
       "      <th>SD_DM-SNR</th>\n",
       "      <th>Excess kurtosis_DM-SNR</th>\n",
       "      <th>Skewness_DM-SNR</th>\n",
       "      <th>Class</th>\n",
       "    </tr>\n",
       "  </thead>\n",
       "  <tbody>\n",
       "    <tr>\n",
       "      <th>0</th>\n",
       "      <td>140.562500</td>\n",
       "      <td>55.683782</td>\n",
       "      <td>-0.234571</td>\n",
       "      <td>-0.699648</td>\n",
       "      <td>3.199833</td>\n",
       "      <td>19.110426</td>\n",
       "      <td>7.975532</td>\n",
       "      <td>74.242225</td>\n",
       "      <td>0</td>\n",
       "    </tr>\n",
       "    <tr>\n",
       "      <th>1</th>\n",
       "      <td>102.507812</td>\n",
       "      <td>58.882430</td>\n",
       "      <td>0.465318</td>\n",
       "      <td>-0.515088</td>\n",
       "      <td>1.677258</td>\n",
       "      <td>14.860146</td>\n",
       "      <td>10.576487</td>\n",
       "      <td>127.393580</td>\n",
       "      <td>0</td>\n",
       "    </tr>\n",
       "    <tr>\n",
       "      <th>2</th>\n",
       "      <td>103.015625</td>\n",
       "      <td>39.341649</td>\n",
       "      <td>0.323328</td>\n",
       "      <td>1.051164</td>\n",
       "      <td>3.121237</td>\n",
       "      <td>21.744669</td>\n",
       "      <td>7.735822</td>\n",
       "      <td>63.171909</td>\n",
       "      <td>0</td>\n",
       "    </tr>\n",
       "    <tr>\n",
       "      <th>3</th>\n",
       "      <td>136.750000</td>\n",
       "      <td>57.178449</td>\n",
       "      <td>-0.068415</td>\n",
       "      <td>-0.636238</td>\n",
       "      <td>3.642977</td>\n",
       "      <td>20.959280</td>\n",
       "      <td>6.896499</td>\n",
       "      <td>53.593661</td>\n",
       "      <td>0</td>\n",
       "    </tr>\n",
       "    <tr>\n",
       "      <th>4</th>\n",
       "      <td>88.726562</td>\n",
       "      <td>40.672225</td>\n",
       "      <td>0.600866</td>\n",
       "      <td>1.123492</td>\n",
       "      <td>1.178930</td>\n",
       "      <td>11.468720</td>\n",
       "      <td>14.269573</td>\n",
       "      <td>252.567306</td>\n",
       "      <td>0</td>\n",
       "    </tr>\n",
       "  </tbody>\n",
       "</table>\n",
       "</div>"
      ],
      "text/plain": [
       "      Mean_IP      SD_IP  Excess kurtosis_IP  Skewness_IP  Mean_DM-SNR  \\\n",
       "0  140.562500  55.683782           -0.234571    -0.699648     3.199833   \n",
       "1  102.507812  58.882430            0.465318    -0.515088     1.677258   \n",
       "2  103.015625  39.341649            0.323328     1.051164     3.121237   \n",
       "3  136.750000  57.178449           -0.068415    -0.636238     3.642977   \n",
       "4   88.726562  40.672225            0.600866     1.123492     1.178930   \n",
       "\n",
       "   SD_DM-SNR  Excess kurtosis_DM-SNR  Skewness_DM-SNR  Class  \n",
       "0  19.110426                7.975532        74.242225      0  \n",
       "1  14.860146               10.576487       127.393580      0  \n",
       "2  21.744669                7.735822        63.171909      0  \n",
       "3  20.959280                6.896499        53.593661      0  \n",
       "4  11.468720               14.269573       252.567306      0  "
      ]
     },
     "execution_count": 5,
     "metadata": {},
     "output_type": "execute_result"
    }
   ],
   "source": [
    "col_names=['Mean_IP', 'SD_IP', 'Excess kurtosis_IP', 'Skewness_IP','Mean_DM-SNR','SD_DM-SNR','Excess kurtosis_DM-SNR','Skewness_DM-SNR','Class'] \n",
    "df = pd.read_csv('HTRU_2.csv', names=col_names)\n",
    "df.head()"
   ]
  },
  {
   "cell_type": "code",
   "execution_count": 6,
   "id": "b16cf40c",
   "metadata": {},
   "outputs": [],
   "source": [
    "#df = pd.read_csv('HTRU_2.csv', names=['Mean_IP', 'Standard deviation_IP', 'Excess kurtosis_IP', 'Skewness_IP','Mean_DM-SNR','Standard deviation_DM-SNR','Excess kurtosis_DM-SNR','Skewness_DM-SNR','Class'], header=None)\n",
    "#df.head()"
   ]
  },
  {
   "cell_type": "code",
   "execution_count": 7,
   "id": "976730c6",
   "metadata": {},
   "outputs": [
    {
     "data": {
      "text/plain": [
       "Mean_IP                   0.0\n",
       "SD_IP                     0.0\n",
       "Excess kurtosis_IP        0.0\n",
       "Skewness_IP               0.0\n",
       "Mean_DM-SNR               0.0\n",
       "SD_DM-SNR                 0.0\n",
       "Excess kurtosis_DM-SNR    0.0\n",
       "Skewness_DM-SNR           0.0\n",
       "Class                     0.0\n",
       "dtype: float64"
      ]
     },
     "execution_count": 7,
     "metadata": {},
     "output_type": "execute_result"
    }
   ],
   "source": [
    "#ratio of null values\n",
    "df.isnull().sum()/df.shape[0] *100"
   ]
  },
  {
   "cell_type": "markdown",
   "id": "e8380d1e",
   "metadata": {},
   "source": [
    "* Since there are no null values in any of the columns, no imputation is needed. We will now check the datatypes of the columns"
   ]
  },
  {
   "cell_type": "code",
   "execution_count": 8,
   "id": "cf4a42e9",
   "metadata": {},
   "outputs": [
    {
     "name": "stdout",
     "output_type": "stream",
     "text": [
      "<class 'pandas.core.frame.DataFrame'>\n",
      "RangeIndex: 17898 entries, 0 to 17897\n",
      "Data columns (total 9 columns):\n",
      " #   Column                  Non-Null Count  Dtype  \n",
      "---  ------                  --------------  -----  \n",
      " 0   Mean_IP                 17898 non-null  float64\n",
      " 1   SD_IP                   17898 non-null  float64\n",
      " 2   Excess kurtosis_IP      17898 non-null  float64\n",
      " 3   Skewness_IP             17898 non-null  float64\n",
      " 4   Mean_DM-SNR             17898 non-null  float64\n",
      " 5   SD_DM-SNR               17898 non-null  float64\n",
      " 6   Excess kurtosis_DM-SNR  17898 non-null  float64\n",
      " 7   Skewness_DM-SNR         17898 non-null  float64\n",
      " 8   Class                   17898 non-null  int64  \n",
      "dtypes: float64(8), int64(1)\n",
      "memory usage: 1.2 MB\n"
     ]
    }
   ],
   "source": [
    "df.info()"
   ]
  },
  {
   "cell_type": "markdown",
   "id": "447e631e",
   "metadata": {},
   "source": [
    "* All the columns are already in float64 format and can be directly fed to the algorithm. Thus no type conversions are needed."
   ]
  },
  {
   "cell_type": "markdown",
   "id": "971777c4",
   "metadata": {},
   "source": [
    "##### Check for 5 point summary"
   ]
  },
  {
   "cell_type": "code",
   "execution_count": 9,
   "id": "a6b3052a",
   "metadata": {},
   "outputs": [
    {
     "data": {
      "text/html": [
       "<div>\n",
       "<style scoped>\n",
       "    .dataframe tbody tr th:only-of-type {\n",
       "        vertical-align: middle;\n",
       "    }\n",
       "\n",
       "    .dataframe tbody tr th {\n",
       "        vertical-align: top;\n",
       "    }\n",
       "\n",
       "    .dataframe thead th {\n",
       "        text-align: right;\n",
       "    }\n",
       "</style>\n",
       "<table border=\"1\" class=\"dataframe\">\n",
       "  <thead>\n",
       "    <tr style=\"text-align: right;\">\n",
       "      <th></th>\n",
       "      <th>Mean_IP</th>\n",
       "      <th>SD_IP</th>\n",
       "      <th>Excess kurtosis_IP</th>\n",
       "      <th>Skewness_IP</th>\n",
       "      <th>Mean_DM-SNR</th>\n",
       "      <th>SD_DM-SNR</th>\n",
       "      <th>Excess kurtosis_DM-SNR</th>\n",
       "      <th>Skewness_DM-SNR</th>\n",
       "      <th>Class</th>\n",
       "    </tr>\n",
       "  </thead>\n",
       "  <tbody>\n",
       "    <tr>\n",
       "      <th>count</th>\n",
       "      <td>17898.000000</td>\n",
       "      <td>17898.000000</td>\n",
       "      <td>17898.000000</td>\n",
       "      <td>17898.000000</td>\n",
       "      <td>17898.000000</td>\n",
       "      <td>17898.000000</td>\n",
       "      <td>17898.000000</td>\n",
       "      <td>17898.000000</td>\n",
       "      <td>17898.000000</td>\n",
       "    </tr>\n",
       "    <tr>\n",
       "      <th>mean</th>\n",
       "      <td>111.079968</td>\n",
       "      <td>46.549532</td>\n",
       "      <td>0.477857</td>\n",
       "      <td>1.770279</td>\n",
       "      <td>12.614400</td>\n",
       "      <td>26.326515</td>\n",
       "      <td>8.303556</td>\n",
       "      <td>104.857709</td>\n",
       "      <td>0.091574</td>\n",
       "    </tr>\n",
       "    <tr>\n",
       "      <th>std</th>\n",
       "      <td>25.652935</td>\n",
       "      <td>6.843189</td>\n",
       "      <td>1.064040</td>\n",
       "      <td>6.167913</td>\n",
       "      <td>29.472897</td>\n",
       "      <td>19.470572</td>\n",
       "      <td>4.506092</td>\n",
       "      <td>106.514540</td>\n",
       "      <td>0.288432</td>\n",
       "    </tr>\n",
       "    <tr>\n",
       "      <th>min</th>\n",
       "      <td>5.812500</td>\n",
       "      <td>24.772042</td>\n",
       "      <td>-1.876011</td>\n",
       "      <td>-1.791886</td>\n",
       "      <td>0.213211</td>\n",
       "      <td>7.370432</td>\n",
       "      <td>-3.139270</td>\n",
       "      <td>-1.976976</td>\n",
       "      <td>0.000000</td>\n",
       "    </tr>\n",
       "    <tr>\n",
       "      <th>25%</th>\n",
       "      <td>100.929688</td>\n",
       "      <td>42.376018</td>\n",
       "      <td>0.027098</td>\n",
       "      <td>-0.188572</td>\n",
       "      <td>1.923077</td>\n",
       "      <td>14.437332</td>\n",
       "      <td>5.781506</td>\n",
       "      <td>34.960504</td>\n",
       "      <td>0.000000</td>\n",
       "    </tr>\n",
       "    <tr>\n",
       "      <th>50%</th>\n",
       "      <td>115.078125</td>\n",
       "      <td>46.947479</td>\n",
       "      <td>0.223240</td>\n",
       "      <td>0.198710</td>\n",
       "      <td>2.801839</td>\n",
       "      <td>18.461316</td>\n",
       "      <td>8.433515</td>\n",
       "      <td>83.064556</td>\n",
       "      <td>0.000000</td>\n",
       "    </tr>\n",
       "    <tr>\n",
       "      <th>75%</th>\n",
       "      <td>127.085938</td>\n",
       "      <td>51.023202</td>\n",
       "      <td>0.473325</td>\n",
       "      <td>0.927783</td>\n",
       "      <td>5.464256</td>\n",
       "      <td>28.428104</td>\n",
       "      <td>10.702959</td>\n",
       "      <td>139.309330</td>\n",
       "      <td>0.000000</td>\n",
       "    </tr>\n",
       "    <tr>\n",
       "      <th>max</th>\n",
       "      <td>192.617188</td>\n",
       "      <td>98.778911</td>\n",
       "      <td>8.069522</td>\n",
       "      <td>68.101622</td>\n",
       "      <td>223.392141</td>\n",
       "      <td>110.642211</td>\n",
       "      <td>34.539844</td>\n",
       "      <td>1191.000837</td>\n",
       "      <td>1.000000</td>\n",
       "    </tr>\n",
       "  </tbody>\n",
       "</table>\n",
       "</div>"
      ],
      "text/plain": [
       "            Mean_IP         SD_IP  Excess kurtosis_IP   Skewness_IP  \\\n",
       "count  17898.000000  17898.000000        17898.000000  17898.000000   \n",
       "mean     111.079968     46.549532            0.477857      1.770279   \n",
       "std       25.652935      6.843189            1.064040      6.167913   \n",
       "min        5.812500     24.772042           -1.876011     -1.791886   \n",
       "25%      100.929688     42.376018            0.027098     -0.188572   \n",
       "50%      115.078125     46.947479            0.223240      0.198710   \n",
       "75%      127.085938     51.023202            0.473325      0.927783   \n",
       "max      192.617188     98.778911            8.069522     68.101622   \n",
       "\n",
       "        Mean_DM-SNR     SD_DM-SNR  Excess kurtosis_DM-SNR  Skewness_DM-SNR  \\\n",
       "count  17898.000000  17898.000000            17898.000000     17898.000000   \n",
       "mean      12.614400     26.326515                8.303556       104.857709   \n",
       "std       29.472897     19.470572                4.506092       106.514540   \n",
       "min        0.213211      7.370432               -3.139270        -1.976976   \n",
       "25%        1.923077     14.437332                5.781506        34.960504   \n",
       "50%        2.801839     18.461316                8.433515        83.064556   \n",
       "75%        5.464256     28.428104               10.702959       139.309330   \n",
       "max      223.392141    110.642211               34.539844      1191.000837   \n",
       "\n",
       "              Class  \n",
       "count  17898.000000  \n",
       "mean       0.091574  \n",
       "std        0.288432  \n",
       "min        0.000000  \n",
       "25%        0.000000  \n",
       "50%        0.000000  \n",
       "75%        0.000000  \n",
       "max        1.000000  "
      ]
     },
     "execution_count": 9,
     "metadata": {},
     "output_type": "execute_result"
    }
   ],
   "source": [
    "df.describe()"
   ]
  },
  {
   "cell_type": "markdown",
   "id": "07bd93bf",
   "metadata": {},
   "source": [
    "## Step 3: Exploratory Data Analysis"
   ]
  },
  {
   "cell_type": "code",
   "execution_count": 10,
   "id": "7115cef5",
   "metadata": {},
   "outputs": [
    {
     "data": {
      "text/html": [
       "<style  type=\"text/css\" >\n",
       "#T_62e88_row0_col0,#T_62e88_row1_col1,#T_62e88_row2_col2,#T_62e88_row3_col3,#T_62e88_row4_col4,#T_62e88_row5_col5,#T_62e88_row6_col6,#T_62e88_row7_col7,#T_62e88_row8_col8{\n",
       "            background-color:  #08306b;\n",
       "            color:  #f1f1f1;\n",
       "        }#T_62e88_row0_col1{\n",
       "            background-color:  #2d7dbb;\n",
       "            color:  #000000;\n",
       "        }#T_62e88_row0_col2,#T_62e88_row0_col3,#T_62e88_row0_col8,#T_62e88_row2_col0,#T_62e88_row3_col1,#T_62e88_row5_col6,#T_62e88_row5_col7,#T_62e88_row6_col4,#T_62e88_row6_col5{\n",
       "            background-color:  #f7fbff;\n",
       "            color:  #000000;\n",
       "        }#T_62e88_row0_col4{\n",
       "            background-color:  #d0e2f2;\n",
       "            color:  #000000;\n",
       "        }#T_62e88_row0_col5{\n",
       "            background-color:  #bdd7ec;\n",
       "            color:  #000000;\n",
       "        }#T_62e88_row0_col6{\n",
       "            background-color:  #529dcc;\n",
       "            color:  #000000;\n",
       "        }#T_62e88_row0_col7{\n",
       "            background-color:  #7db8da;\n",
       "            color:  #000000;\n",
       "        }#T_62e88_row1_col0{\n",
       "            background-color:  #1f6eb3;\n",
       "            color:  #f1f1f1;\n",
       "        }#T_62e88_row1_col2{\n",
       "            background-color:  #d2e3f3;\n",
       "            color:  #000000;\n",
       "        }#T_62e88_row1_col3,#T_62e88_row8_col1{\n",
       "            background-color:  #e0ecf8;\n",
       "            color:  #000000;\n",
       "        }#T_62e88_row1_col4,#T_62e88_row1_col7{\n",
       "            background-color:  #9ac8e0;\n",
       "            color:  #000000;\n",
       "        }#T_62e88_row1_col5{\n",
       "            background-color:  #8cc0dd;\n",
       "            color:  #000000;\n",
       "        }#T_62e88_row1_col6{\n",
       "            background-color:  #7ab6d9;\n",
       "            color:  #000000;\n",
       "        }#T_62e88_row1_col8{\n",
       "            background-color:  #d3e3f3;\n",
       "            color:  #000000;\n",
       "        }#T_62e88_row2_col1{\n",
       "            background-color:  #f5f9fe;\n",
       "            color:  #000000;\n",
       "        }#T_62e88_row2_col3,#T_62e88_row3_col2{\n",
       "            background-color:  #083776;\n",
       "            color:  #f1f1f1;\n",
       "        }#T_62e88_row2_col4{\n",
       "            background-color:  #3e8ec4;\n",
       "            color:  #000000;\n",
       "        }#T_62e88_row2_col5,#T_62e88_row4_col2{\n",
       "            background-color:  #3282be;\n",
       "            color:  #000000;\n",
       "        }#T_62e88_row2_col6{\n",
       "            background-color:  #c3daee;\n",
       "            color:  #000000;\n",
       "        }#T_62e88_row2_col7{\n",
       "            background-color:  #cadef0;\n",
       "            color:  #000000;\n",
       "        }#T_62e88_row2_col8{\n",
       "            background-color:  #08509b;\n",
       "            color:  #f1f1f1;\n",
       "        }#T_62e88_row3_col0{\n",
       "            background-color:  #e9f2fa;\n",
       "            color:  #000000;\n",
       "        }#T_62e88_row3_col4{\n",
       "            background-color:  #3f8fc5;\n",
       "            color:  #000000;\n",
       "        }#T_62e88_row3_col5{\n",
       "            background-color:  #3484bf;\n",
       "            color:  #000000;\n",
       "        }#T_62e88_row3_col6{\n",
       "            background-color:  #c1d9ed;\n",
       "            color:  #000000;\n",
       "        }#T_62e88_row3_col7,#T_62e88_row6_col3{\n",
       "            background-color:  #c9ddf0;\n",
       "            color:  #000000;\n",
       "        }#T_62e88_row3_col8{\n",
       "            background-color:  #125da6;\n",
       "            color:  #f1f1f1;\n",
       "        }#T_62e88_row4_col0,#T_62e88_row7_col3{\n",
       "            background-color:  #b4d3e9;\n",
       "            color:  #000000;\n",
       "        }#T_62e88_row4_col1,#T_62e88_row7_col2{\n",
       "            background-color:  #a5cde3;\n",
       "            color:  #000000;\n",
       "        }#T_62e88_row4_col3,#T_62e88_row5_col3{\n",
       "            background-color:  #3888c1;\n",
       "            color:  #000000;\n",
       "        }#T_62e88_row4_col5,#T_62e88_row8_col2{\n",
       "            background-color:  #084d96;\n",
       "            color:  #f1f1f1;\n",
       "        }#T_62e88_row4_col6,#T_62e88_row8_col0{\n",
       "            background-color:  #e2edf8;\n",
       "            color:  #000000;\n",
       "        }#T_62e88_row4_col7{\n",
       "            background-color:  #dce9f6;\n",
       "            color:  #000000;\n",
       "        }#T_62e88_row4_col8{\n",
       "            background-color:  #3d8dc4;\n",
       "            color:  #000000;\n",
       "        }#T_62e88_row5_col0{\n",
       "            background-color:  #b5d4e9;\n",
       "            color:  #000000;\n",
       "        }#T_62e88_row5_col1{\n",
       "            background-color:  #b0d2e7;\n",
       "            color:  #000000;\n",
       "        }#T_62e88_row5_col2,#T_62e88_row5_col8{\n",
       "            background-color:  #2f7fbc;\n",
       "            color:  #000000;\n",
       "        }#T_62e88_row5_col4{\n",
       "            background-color:  #08519c;\n",
       "            color:  #f1f1f1;\n",
       "        }#T_62e88_row6_col0{\n",
       "            background-color:  #4d99ca;\n",
       "            color:  #000000;\n",
       "        }#T_62e88_row6_col1,#T_62e88_row7_col1{\n",
       "            background-color:  #a0cbe2;\n",
       "            color:  #000000;\n",
       "        }#T_62e88_row6_col2{\n",
       "            background-color:  #bcd7eb;\n",
       "            color:  #000000;\n",
       "        }#T_62e88_row6_col7{\n",
       "            background-color:  #083c7d;\n",
       "            color:  #f1f1f1;\n",
       "        }#T_62e88_row6_col8{\n",
       "            background-color:  #d6e5f4;\n",
       "            color:  #000000;\n",
       "        }#T_62e88_row7_col0{\n",
       "            background-color:  #5ca4d0;\n",
       "            color:  #000000;\n",
       "        }#T_62e88_row7_col4{\n",
       "            background-color:  #d7e6f5;\n",
       "            color:  #000000;\n",
       "        }#T_62e88_row7_col5{\n",
       "            background-color:  #ddeaf7;\n",
       "            color:  #000000;\n",
       "        }#T_62e88_row7_col6{\n",
       "            background-color:  #083a7a;\n",
       "            color:  #f1f1f1;\n",
       "        }#T_62e88_row7_col8{\n",
       "            background-color:  #c7dbef;\n",
       "            color:  #000000;\n",
       "        }#T_62e88_row8_col3{\n",
       "            background-color:  #105ba4;\n",
       "            color:  #f1f1f1;\n",
       "        }#T_62e88_row8_col4{\n",
       "            background-color:  #4090c5;\n",
       "            color:  #000000;\n",
       "        }#T_62e88_row8_col5{\n",
       "            background-color:  #2979b9;\n",
       "            color:  #000000;\n",
       "        }#T_62e88_row8_col6{\n",
       "            background-color:  #caddf0;\n",
       "            color:  #000000;\n",
       "        }#T_62e88_row8_col7{\n",
       "            background-color:  #d0e1f2;\n",
       "            color:  #000000;\n",
       "        }</style><table id=\"T_62e88_\" ><thead>    <tr>        <th class=\"blank level0\" ></th>        <th class=\"col_heading level0 col0\" >Mean_IP</th>        <th class=\"col_heading level0 col1\" >SD_IP</th>        <th class=\"col_heading level0 col2\" >Excess kurtosis_IP</th>        <th class=\"col_heading level0 col3\" >Skewness_IP</th>        <th class=\"col_heading level0 col4\" >Mean_DM-SNR</th>        <th class=\"col_heading level0 col5\" >SD_DM-SNR</th>        <th class=\"col_heading level0 col6\" >Excess kurtosis_DM-SNR</th>        <th class=\"col_heading level0 col7\" >Skewness_DM-SNR</th>        <th class=\"col_heading level0 col8\" >Class</th>    </tr></thead><tbody>\n",
       "                <tr>\n",
       "                        <th id=\"T_62e88_level0_row0\" class=\"row_heading level0 row0\" >Mean_IP</th>\n",
       "                        <td id=\"T_62e88_row0_col0\" class=\"data row0 col0\" >1.000000</td>\n",
       "                        <td id=\"T_62e88_row0_col1\" class=\"data row0 col1\" >0.547137</td>\n",
       "                        <td id=\"T_62e88_row0_col2\" class=\"data row0 col2\" >-0.873898</td>\n",
       "                        <td id=\"T_62e88_row0_col3\" class=\"data row0 col3\" >-0.738775</td>\n",
       "                        <td id=\"T_62e88_row0_col4\" class=\"data row0 col4\" >-0.298841</td>\n",
       "                        <td id=\"T_62e88_row0_col5\" class=\"data row0 col5\" >-0.307016</td>\n",
       "                        <td id=\"T_62e88_row0_col6\" class=\"data row0 col6\" >0.234331</td>\n",
       "                        <td id=\"T_62e88_row0_col7\" class=\"data row0 col7\" >0.144033</td>\n",
       "                        <td id=\"T_62e88_row0_col8\" class=\"data row0 col8\" >-0.673181</td>\n",
       "            </tr>\n",
       "            <tr>\n",
       "                        <th id=\"T_62e88_level0_row1\" class=\"row_heading level0 row1\" >SD_IP</th>\n",
       "                        <td id=\"T_62e88_row1_col0\" class=\"data row1 col0\" >0.547137</td>\n",
       "                        <td id=\"T_62e88_row1_col1\" class=\"data row1 col1\" >1.000000</td>\n",
       "                        <td id=\"T_62e88_row1_col2\" class=\"data row1 col2\" >-0.521435</td>\n",
       "                        <td id=\"T_62e88_row1_col3\" class=\"data row1 col3\" >-0.539793</td>\n",
       "                        <td id=\"T_62e88_row1_col4\" class=\"data row1 col4\" >0.006869</td>\n",
       "                        <td id=\"T_62e88_row1_col5\" class=\"data row1 col5\" >-0.047632</td>\n",
       "                        <td id=\"T_62e88_row1_col6\" class=\"data row1 col6\" >0.029429</td>\n",
       "                        <td id=\"T_62e88_row1_col7\" class=\"data row1 col7\" >0.027691</td>\n",
       "                        <td id=\"T_62e88_row1_col8\" class=\"data row1 col8\" >-0.363708</td>\n",
       "            </tr>\n",
       "            <tr>\n",
       "                        <th id=\"T_62e88_level0_row2\" class=\"row_heading level0 row2\" >Excess kurtosis_IP</th>\n",
       "                        <td id=\"T_62e88_row2_col0\" class=\"data row2 col0\" >-0.873898</td>\n",
       "                        <td id=\"T_62e88_row2_col1\" class=\"data row2 col1\" >-0.521435</td>\n",
       "                        <td id=\"T_62e88_row2_col2\" class=\"data row2 col2\" >1.000000</td>\n",
       "                        <td id=\"T_62e88_row2_col3\" class=\"data row2 col3\" >0.945729</td>\n",
       "                        <td id=\"T_62e88_row2_col4\" class=\"data row2 col4\" >0.414368</td>\n",
       "                        <td id=\"T_62e88_row2_col5\" class=\"data row2 col5\" >0.432880</td>\n",
       "                        <td id=\"T_62e88_row2_col6\" class=\"data row2 col6\" >-0.341209</td>\n",
       "                        <td id=\"T_62e88_row2_col7\" class=\"data row2 col7\" >-0.214491</td>\n",
       "                        <td id=\"T_62e88_row2_col8\" class=\"data row2 col8\" >0.791591</td>\n",
       "            </tr>\n",
       "            <tr>\n",
       "                        <th id=\"T_62e88_level0_row3\" class=\"row_heading level0 row3\" >Skewness_IP</th>\n",
       "                        <td id=\"T_62e88_row3_col0\" class=\"data row3 col0\" >-0.738775</td>\n",
       "                        <td id=\"T_62e88_row3_col1\" class=\"data row3 col1\" >-0.539793</td>\n",
       "                        <td id=\"T_62e88_row3_col2\" class=\"data row3 col2\" >0.945729</td>\n",
       "                        <td id=\"T_62e88_row3_col3\" class=\"data row3 col3\" >1.000000</td>\n",
       "                        <td id=\"T_62e88_row3_col4\" class=\"data row3 col4\" >0.412056</td>\n",
       "                        <td id=\"T_62e88_row3_col5\" class=\"data row3 col5\" >0.415140</td>\n",
       "                        <td id=\"T_62e88_row3_col6\" class=\"data row3 col6\" >-0.328843</td>\n",
       "                        <td id=\"T_62e88_row3_col7\" class=\"data row3 col7\" >-0.204782</td>\n",
       "                        <td id=\"T_62e88_row3_col8\" class=\"data row3 col8\" >0.709528</td>\n",
       "            </tr>\n",
       "            <tr>\n",
       "                        <th id=\"T_62e88_level0_row4\" class=\"row_heading level0 row4\" >Mean_DM-SNR</th>\n",
       "                        <td id=\"T_62e88_row4_col0\" class=\"data row4 col0\" >-0.298841</td>\n",
       "                        <td id=\"T_62e88_row4_col1\" class=\"data row4 col1\" >0.006869</td>\n",
       "                        <td id=\"T_62e88_row4_col2\" class=\"data row4 col2\" >0.414368</td>\n",
       "                        <td id=\"T_62e88_row4_col3\" class=\"data row4 col3\" >0.412056</td>\n",
       "                        <td id=\"T_62e88_row4_col4\" class=\"data row4 col4\" >1.000000</td>\n",
       "                        <td id=\"T_62e88_row4_col5\" class=\"data row4 col5\" >0.796555</td>\n",
       "                        <td id=\"T_62e88_row4_col6\" class=\"data row4 col6\" >-0.615971</td>\n",
       "                        <td id=\"T_62e88_row4_col7\" class=\"data row4 col7\" >-0.354269</td>\n",
       "                        <td id=\"T_62e88_row4_col8\" class=\"data row4 col8\" >0.400876</td>\n",
       "            </tr>\n",
       "            <tr>\n",
       "                        <th id=\"T_62e88_level0_row5\" class=\"row_heading level0 row5\" >SD_DM-SNR</th>\n",
       "                        <td id=\"T_62e88_row5_col0\" class=\"data row5 col0\" >-0.307016</td>\n",
       "                        <td id=\"T_62e88_row5_col1\" class=\"data row5 col1\" >-0.047632</td>\n",
       "                        <td id=\"T_62e88_row5_col2\" class=\"data row5 col2\" >0.432880</td>\n",
       "                        <td id=\"T_62e88_row5_col3\" class=\"data row5 col3\" >0.415140</td>\n",
       "                        <td id=\"T_62e88_row5_col4\" class=\"data row5 col4\" >0.796555</td>\n",
       "                        <td id=\"T_62e88_row5_col5\" class=\"data row5 col5\" >1.000000</td>\n",
       "                        <td id=\"T_62e88_row5_col6\" class=\"data row5 col6\" >-0.809786</td>\n",
       "                        <td id=\"T_62e88_row5_col7\" class=\"data row5 col7\" >-0.575800</td>\n",
       "                        <td id=\"T_62e88_row5_col8\" class=\"data row5 col8\" >0.491535</td>\n",
       "            </tr>\n",
       "            <tr>\n",
       "                        <th id=\"T_62e88_level0_row6\" class=\"row_heading level0 row6\" >Excess kurtosis_DM-SNR</th>\n",
       "                        <td id=\"T_62e88_row6_col0\" class=\"data row6 col0\" >0.234331</td>\n",
       "                        <td id=\"T_62e88_row6_col1\" class=\"data row6 col1\" >0.029429</td>\n",
       "                        <td id=\"T_62e88_row6_col2\" class=\"data row6 col2\" >-0.341209</td>\n",
       "                        <td id=\"T_62e88_row6_col3\" class=\"data row6 col3\" >-0.328843</td>\n",
       "                        <td id=\"T_62e88_row6_col4\" class=\"data row6 col4\" >-0.615971</td>\n",
       "                        <td id=\"T_62e88_row6_col5\" class=\"data row6 col5\" >-0.809786</td>\n",
       "                        <td id=\"T_62e88_row6_col6\" class=\"data row6 col6\" >1.000000</td>\n",
       "                        <td id=\"T_62e88_row6_col7\" class=\"data row6 col7\" >0.923743</td>\n",
       "                        <td id=\"T_62e88_row6_col8\" class=\"data row6 col8\" >-0.390816</td>\n",
       "            </tr>\n",
       "            <tr>\n",
       "                        <th id=\"T_62e88_level0_row7\" class=\"row_heading level0 row7\" >Skewness_DM-SNR</th>\n",
       "                        <td id=\"T_62e88_row7_col0\" class=\"data row7 col0\" >0.144033</td>\n",
       "                        <td id=\"T_62e88_row7_col1\" class=\"data row7 col1\" >0.027691</td>\n",
       "                        <td id=\"T_62e88_row7_col2\" class=\"data row7 col2\" >-0.214491</td>\n",
       "                        <td id=\"T_62e88_row7_col3\" class=\"data row7 col3\" >-0.204782</td>\n",
       "                        <td id=\"T_62e88_row7_col4\" class=\"data row7 col4\" >-0.354269</td>\n",
       "                        <td id=\"T_62e88_row7_col5\" class=\"data row7 col5\" >-0.575800</td>\n",
       "                        <td id=\"T_62e88_row7_col6\" class=\"data row7 col6\" >0.923743</td>\n",
       "                        <td id=\"T_62e88_row7_col7\" class=\"data row7 col7\" >1.000000</td>\n",
       "                        <td id=\"T_62e88_row7_col8\" class=\"data row7 col8\" >-0.259117</td>\n",
       "            </tr>\n",
       "            <tr>\n",
       "                        <th id=\"T_62e88_level0_row8\" class=\"row_heading level0 row8\" >Class</th>\n",
       "                        <td id=\"T_62e88_row8_col0\" class=\"data row8 col0\" >-0.673181</td>\n",
       "                        <td id=\"T_62e88_row8_col1\" class=\"data row8 col1\" >-0.363708</td>\n",
       "                        <td id=\"T_62e88_row8_col2\" class=\"data row8 col2\" >0.791591</td>\n",
       "                        <td id=\"T_62e88_row8_col3\" class=\"data row8 col3\" >0.709528</td>\n",
       "                        <td id=\"T_62e88_row8_col4\" class=\"data row8 col4\" >0.400876</td>\n",
       "                        <td id=\"T_62e88_row8_col5\" class=\"data row8 col5\" >0.491535</td>\n",
       "                        <td id=\"T_62e88_row8_col6\" class=\"data row8 col6\" >-0.390816</td>\n",
       "                        <td id=\"T_62e88_row8_col7\" class=\"data row8 col7\" >-0.259117</td>\n",
       "                        <td id=\"T_62e88_row8_col8\" class=\"data row8 col8\" >1.000000</td>\n",
       "            </tr>\n",
       "    </tbody></table>"
      ],
      "text/plain": [
       "<pandas.io.formats.style.Styler at 0x12ca2de52b0>"
      ]
     },
     "execution_count": 10,
     "metadata": {},
     "output_type": "execute_result"
    }
   ],
   "source": [
    "df.corr().style.background_gradient(cmap=\"Blues\")"
   ]
  },
  {
   "cell_type": "code",
   "execution_count": 11,
   "id": "51075302",
   "metadata": {},
   "outputs": [
    {
     "data": {
      "image/png": "[encoded data removed]",
      "text/plain": [
       "<Figure size 432x288 with 2 Axes>"
      ]
     },
     "metadata": {
      "needs_background": "light"
     },
     "output_type": "display_data"
    }
   ],
   "source": [
    "matrix = df.corr().round(2)\n",
    "sns.heatmap(matrix, annot=True)\n",
    "plt.show()"
   ]
  },
  {
   "cell_type": "code",
   "execution_count": 12,
   "id": "05244787",
   "metadata": {},
   "outputs": [
    {
     "data": {
      "text/plain": [
       "array([[<AxesSubplot:title={'center':'Mean_IP'}>,\n",
       "        <AxesSubplot:title={'center':'SD_IP'}>,\n",
       "        <AxesSubplot:title={'center':'Excess kurtosis_IP'}>],\n",
       "       [<AxesSubplot:title={'center':'Skewness_IP'}>,\n",
       "        <AxesSubplot:title={'center':'Mean_DM-SNR'}>,\n",
       "        <AxesSubplot:title={'center':'SD_DM-SNR'}>],\n",
       "       [<AxesSubplot:title={'center':'Excess kurtosis_DM-SNR'}>,\n",
       "        <AxesSubplot:title={'center':'Skewness_DM-SNR'}>,\n",
       "        <AxesSubplot:title={'center':'Class'}>]], dtype=object)"
      ]
     },
     "execution_count": 12,
     "metadata": {},
     "output_type": "execute_result"
    },
    {
     "data": {
      "image/png": "[encoded data removed]",
      "text/plain": [
       "<Figure size 1152x1440 with 9 Axes>"
      ]
     },
     "metadata": {
      "needs_background": "light"
     },
     "output_type": "display_data"
    }
   ],
   "source": [
    "#plotting histogram of each column\n",
    "df.hist(figsize=(16,20),bins=20,xlabelsize=8,ylabelsize=8)\n"
   ]
  },
  {
   "cell_type": "markdown",
   "id": "8b30d710",
   "metadata": {},
   "source": [
    "Observation: Some columns have near normal distribution, while some show a right skew. Also, the positive samples are much lesser in number than the negative samples."
   ]
  },
  {
   "cell_type": "code",
   "execution_count": 13,
   "id": "453d24e0",
   "metadata": {},
   "outputs": [
    {
     "data": {
      "text/plain": [
       "<AxesSubplot:xlabel='Class', ylabel='count'>"
      ]
     },
     "execution_count": 13,
     "metadata": {},
     "output_type": "execute_result"
    },
    {
     "data": {
      "image/png": "[encoded data removed]",
      "text/plain": [
       "<Figure size 576x360 with 1 Axes>"
      ]
     },
     "metadata": {
      "needs_background": "light"
     },
     "output_type": "display_data"
    }
   ],
   "source": [
    "plt.figure(figsize=(8,5))\n",
    "sns.countplot('Class',data=df,palette='summer')"
   ]
  },
  {
   "cell_type": "markdown",
   "id": "4d70ee79",
   "metadata": {},
   "source": [
    "Here we can see class 1 (Pulsar) is approximately just 10% of the total data."
   ]
  },
  {
   "cell_type": "markdown",
   "id": "98fdde5c",
   "metadata": {},
   "source": [
    "#### Building the model"
   ]
  },
  {
   "cell_type": "markdown",
   "id": "c4b0d5fe",
   "metadata": {},
   "source": [
    "We will first build the model without normalization:"
   ]
  },
  {
   "cell_type": "code",
   "execution_count": 14,
   "id": "72fc2635",
   "metadata": {},
   "outputs": [],
   "source": [
    "x= df.drop(columns = ['Class'], axis=1)\n",
    "y=df['Class']"
   ]
  },
  {
   "cell_type": "code",
   "execution_count": 15,
   "id": "3b891fdb",
   "metadata": {},
   "outputs": [],
   "source": [
    "#We will perform an 80-20 split, so we give test_size = 0.2 or 20%\n",
    "#remaining 80% is used for training the model\n",
    "x_train,x_test,y_train,y_test=train_test_split(x,y,test_size=0.2,random_state=10)"
   ]
  },
  {
   "cell_type": "code",
   "execution_count": 16,
   "id": "7473e457",
   "metadata": {},
   "outputs": [],
   "source": [
    "#Model building \n",
    "from sklearn.linear_model import LogisticRegression \n",
    "\n",
    "\n",
    "from sklearn.metrics import accuracy_score, confusion_matrix, recall_score, precision_score, f1_score \n",
    "# different performace measures for checking the goodness of model"
   ]
  },
  {
   "cell_type": "code",
   "execution_count": 17,
   "id": "93a52663",
   "metadata": {},
   "outputs": [],
   "source": [
    "ls=LogisticRegression(max_iter=500)"
   ]
  },
  {
   "cell_type": "code",
   "execution_count": 18,
   "id": "cafedfb2",
   "metadata": {},
   "outputs": [
    {
     "data": {
      "text/html": [
       "<style>#sk-container-id-1 {color: black;background-color: white;}#sk-container-id-1 pre{padding: 0;}#sk-container-id-1 div.sk-toggleable {background-color: white;}#sk-container-id-1 label.sk-toggleable__label {cursor: pointer;display: block;width: 100%;margin-bottom: 0;padding: 0.3em;box-sizing: border-box;text-align: center;}#sk-container-id-1 label.sk-toggleable__label-arrow:before {content: \"▸\";float: left;margin-right: 0.25em;color: #696969;}#sk-container-id-1 label.sk-toggleable__label-arrow:hover:before {color: black;}#sk-container-id-1 div.sk-estimator:hover label.sk-toggleable__label-arrow:before {color: black;}#sk-container-id-1 div.sk-toggleable__content {max-height: 0;max-width: 0;overflow: hidden;text-align: left;background-color: #f0f8ff;}#sk-container-id-1 div.sk-toggleable__content pre {margin: 0.2em;color: black;border-radius: 0.25em;background-color: #f0f8ff;}#sk-container-id-1 input.sk-toggleable__control:checked~div.sk-toggleable__content {max-height: 200px;max-width: 100%;overflow: auto;}#sk-container-id-1 input.sk-toggleable__control:checked~label.sk-toggleable__label-arrow:before {content: \"▾\";}#sk-container-id-1 div.sk-estimator input.sk-toggleable__control:checked~label.sk-toggleable__label {background-color: #d4ebff;}#sk-container-id-1 div.sk-label input.sk-toggleable__control:checked~label.sk-toggleable__label {background-color: #d4ebff;}#sk-container-id-1 input.sk-hidden--visually {border: 0;clip: rect(1px 1px 1px 1px);clip: rect(1px, 1px, 1px, 1px);height: 1px;margin: -1px;overflow: hidden;padding: 0;position: absolute;width: 1px;}#sk-container-id-1 div.sk-estimator {font-family: monospace;background-color: #f0f8ff;border: 1px dotted black;border-radius: 0.25em;box-sizing: border-box;margin-bottom: 0.5em;}#sk-container-id-1 div.sk-estimator:hover {background-color: #d4ebff;}#sk-container-id-1 div.sk-parallel-item::after {content: \"\";width: 100%;border-bottom: 1px solid gray;flex-grow: 1;}#sk-container-id-1 div.sk-label:hover label.sk-toggleable__label {background-color: #d4ebff;}#sk-container-id-1 div.sk-serial::before {content: \"\";position: absolute;border-left: 1px solid gray;box-sizing: border-box;top: 0;bottom: 0;left: 50%;z-index: 0;}#sk-container-id-1 div.sk-serial {display: flex;flex-direction: column;align-items: center;background-color: white;padding-right: 0.2em;padding-left: 0.2em;position: relative;}#sk-container-id-1 div.sk-item {position: relative;z-index: 1;}#sk-container-id-1 div.sk-parallel {display: flex;align-items: stretch;justify-content: center;background-color: white;position: relative;}#sk-container-id-1 div.sk-item::before, #sk-container-id-1 div.sk-parallel-item::before {content: \"\";position: absolute;border-left: 1px solid gray;box-sizing: border-box;top: 0;bottom: 0;left: 50%;z-index: -1;}#sk-container-id-1 div.sk-parallel-item {display: flex;flex-direction: column;z-index: 1;position: relative;background-color: white;}#sk-container-id-1 div.sk-parallel-item:first-child::after {align-self: flex-end;width: 50%;}#sk-container-id-1 div.sk-parallel-item:last-child::after {align-self: flex-start;width: 50%;}#sk-container-id-1 div.sk-parallel-item:only-child::after {width: 0;}#sk-container-id-1 div.sk-dashed-wrapped {border: 1px dashed gray;margin: 0 0.4em 0.5em 0.4em;box-sizing: border-box;padding-bottom: 0.4em;background-color: white;}#sk-container-id-1 div.sk-label label {font-family: monospace;font-weight: bold;display: inline-block;line-height: 1.2em;}#sk-container-id-1 div.sk-label-container {text-align: center;}#sk-container-id-1 div.sk-container {/* jupyter's `normalize.less` sets `[hidden] { display: none; }` but bootstrap.min.css set `[hidden] { display: none !important; }` so we also need the `!important` here to be able to override the default hidden behavior on the sphinx rendered scikit-learn.org. See: https://github.com/scikit-learn/scikit-learn/issues/21755 */display: inline-block !important;position: relative;}#sk-container-id-1 div.sk-text-repr-fallback {display: none;}</style><div id=\"sk-container-id-1\" class=\"sk-top-container\"><div class=\"sk-text-repr-fallback\"><pre>LogisticRegression(max_iter=500)</pre><b>In a Jupyter environment, please rerun this cell to show the HTML representation or trust the notebook. <br />On GitHub, the HTML representation is unable to render, please try loading this page with nbviewer.org.</b></div><div class=\"sk-container\" hidden><div class=\"sk-item\"><div class=\"sk-estimator sk-toggleable\"><input class=\"sk-toggleable__control sk-hidden--visually\" id=\"sk-estimator-id-1\" type=\"checkbox\" checked><label for=\"sk-estimator-id-1\" class=\"sk-toggleable__label sk-toggleable__label-arrow\">LogisticRegression</label><div class=\"sk-toggleable__content\"><pre>LogisticRegression(max_iter=500)</pre></div></div></div></div></div>"
      ],
      "text/plain": [
       "LogisticRegression(max_iter=500)"
      ]
     },
     "execution_count": 18,
     "metadata": {},
     "output_type": "execute_result"
    }
   ],
   "source": [
    "#Call the fit function to train the model\n",
    "ls.fit(x_train,y_train.values.ravel())\n"
   ]
  },
  {
   "cell_type": "code",
   "execution_count": 19,
   "id": "39e930dd",
   "metadata": {},
   "outputs": [],
   "source": [
    "yp=ls.predict(x_test)\n",
    "#using the built model on test data for prediction\n",
    "#store it in yp"
   ]
  },
  {
   "cell_type": "markdown",
   "id": "c64cb346",
   "metadata": {},
   "source": [
    "#### Performance Measure"
   ]
  },
  {
   "cell_type": "markdown",
   "id": "424d9418",
   "metadata": {},
   "source": [
    "The dataset has ~90% class 0 and ~10% class 1. Thus, even if we get say 90% accuracy, we cannot be sure of the model performance. The model may simply be predicting the majority class!\n",
    "\n",
    "In such cases, we should use precision and recall parameters. Precision = tp/(tp+fp) measures percentage of positive predictions that are actually positive. In this case, it would mean: Number of pulsars predicted that are actually pulsars\n",
    "Recall =(tp/p) measures percentage of positive predictions identified from actual positive. In this context, it means, percentage of pulsars detected by the model as pulsars.\n",
    "\n",
    "We desire a model which will have a high value of Recall . Next preference is higher precision."
   ]
  },
  {
   "cell_type": "code",
   "execution_count": 20,
   "id": "684fdc93",
   "metadata": {},
   "outputs": [
    {
     "name": "stdout",
     "output_type": "stream",
     "text": [
      "              precision    recall  f1-score   support\n",
      "\n",
      "           0       0.98      0.99      0.99      3272\n",
      "           1       0.91      0.79      0.85       308\n",
      "\n",
      "    accuracy                           0.98      3580\n",
      "   macro avg       0.95      0.89      0.92      3580\n",
      "weighted avg       0.97      0.98      0.97      3580\n",
      "\n"
     ]
    }
   ],
   "source": [
    "# Importing the required function\n",
    "from sklearn.metrics import classification_report\n",
    "\n",
    "# Generating the report and printing the same\n",
    "print(classification_report(y_test,yp))"
   ]
  },
  {
   "cell_type": "code",
   "execution_count": 21,
   "id": "a58254f8",
   "metadata": {},
   "outputs": [],
   "source": [
    "#predicting targets based on the model built\n",
    "train_predictions = ls.predict(x_train)\n",
    "test_predictions = ls.predict(x_test)"
   ]
  },
  {
   "cell_type": "code",
   "execution_count": 22,
   "id": "ed17721a",
   "metadata": {},
   "outputs": [
    {
     "data": {
      "text/html": [
       "<div>\n",
       "<style scoped>\n",
       "    .dataframe tbody tr th:only-of-type {\n",
       "        vertical-align: middle;\n",
       "    }\n",
       "\n",
       "    .dataframe tbody tr th {\n",
       "        vertical-align: top;\n",
       "    }\n",
       "\n",
       "    .dataframe thead th {\n",
       "        text-align: right;\n",
       "    }\n",
       "</style>\n",
       "<table border=\"1\" class=\"dataframe\">\n",
       "  <thead>\n",
       "    <tr style=\"text-align: right;\">\n",
       "      <th></th>\n",
       "      <th>0</th>\n",
       "      <th>1</th>\n",
       "    </tr>\n",
       "  </thead>\n",
       "  <tbody>\n",
       "    <tr>\n",
       "      <th>0</th>\n",
       "      <td>12920</td>\n",
       "      <td>67</td>\n",
       "    </tr>\n",
       "    <tr>\n",
       "      <th>1</th>\n",
       "      <td>223</td>\n",
       "      <td>1108</td>\n",
       "    </tr>\n",
       "  </tbody>\n",
       "</table>\n",
       "</div>"
      ],
      "text/plain": [
       "       0     1\n",
       "0  12920    67\n",
       "1    223  1108"
      ]
     },
     "execution_count": 22,
     "metadata": {},
     "output_type": "execute_result"
    }
   ],
   "source": [
    "# Importing the required function\n",
    "from sklearn.metrics import confusion_matrix\n",
    "\n",
    "# Creating a confusion matrix on the training data\n",
    "train_conf_matrix = confusion_matrix(y_train,train_predictions)\n",
    "\n",
    "# Converting the train_conf_matrix into a DataFrame for better readability\n",
    "pd.DataFrame(train_conf_matrix,columns=ls.classes_,index=ls.classes_)"
   ]
  },
  {
   "cell_type": "code",
   "execution_count": 23,
   "id": "3738f52b",
   "metadata": {},
   "outputs": [
    {
     "data": {
      "text/html": [
       "<div>\n",
       "<style scoped>\n",
       "    .dataframe tbody tr th:only-of-type {\n",
       "        vertical-align: middle;\n",
       "    }\n",
       "\n",
       "    .dataframe tbody tr th {\n",
       "        vertical-align: top;\n",
       "    }\n",
       "\n",
       "    .dataframe thead th {\n",
       "        text-align: right;\n",
       "    }\n",
       "</style>\n",
       "<table border=\"1\" class=\"dataframe\">\n",
       "  <thead>\n",
       "    <tr style=\"text-align: right;\">\n",
       "      <th></th>\n",
       "      <th>0</th>\n",
       "      <th>1</th>\n",
       "    </tr>\n",
       "  </thead>\n",
       "  <tbody>\n",
       "    <tr>\n",
       "      <th>0</th>\n",
       "      <td>3249</td>\n",
       "      <td>23</td>\n",
       "    </tr>\n",
       "    <tr>\n",
       "      <th>1</th>\n",
       "      <td>64</td>\n",
       "      <td>244</td>\n",
       "    </tr>\n",
       "  </tbody>\n",
       "</table>\n",
       "</div>"
      ],
      "text/plain": [
       "      0    1\n",
       "0  3249   23\n",
       "1    64  244"
      ]
     },
     "execution_count": 23,
     "metadata": {},
     "output_type": "execute_result"
    }
   ],
   "source": [
    "#confusion matrix on the test data\n",
    "test_conf_matrix = confusion_matrix(y_test,test_predictions)\n",
    "pd.DataFrame(test_conf_matrix,columns=ls.classes_,index=ls.classes_)"
   ]
  },
  {
   "cell_type": "markdown",
   "id": "a46ecdee",
   "metadata": {},
   "source": [
    "We can see some false negative cases i.e. not predicting pulsar when there is a one. We want minimum false negative for our problem statement."
   ]
  },
  {
   "cell_type": "code",
   "execution_count": 24,
   "id": "1b127608",
   "metadata": {},
   "outputs": [],
   "source": [
    "from sklearn import svm\n",
    "#We will try SVM with linear kernel\n",
    "svclassifier=svm.SVC(kernel=\"linear\")\n",
    "svclassifier.fit(x_train,y_train)\n",
    "yp_s=svclassifier.predict(x_test)"
   ]
  },
  {
   "cell_type": "code",
   "execution_count": 25,
   "id": "0e89d2ac",
   "metadata": {},
   "outputs": [
    {
     "name": "stdout",
     "output_type": "stream",
     "text": [
      "              precision    recall  f1-score   support\n",
      "\n",
      "           0       0.98      0.99      0.99      3272\n",
      "           1       0.93      0.80      0.86       308\n",
      "\n",
      "    accuracy                           0.98      3580\n",
      "   macro avg       0.95      0.90      0.92      3580\n",
      "weighted avg       0.98      0.98      0.98      3580\n",
      "\n"
     ]
    }
   ],
   "source": [
    "# Importing the required function\n",
    "from sklearn.metrics import classification_report\n",
    "\n",
    "# Generating the report and printing the same\n",
    "print(classification_report(y_test,yp_s))"
   ]
  },
  {
   "cell_type": "code",
   "execution_count": 26,
   "id": "1d19309a",
   "metadata": {},
   "outputs": [],
   "source": [
    "#predicting targets based on the model built\n",
    "train_predictions = svclassifier.predict(x_train)\n",
    "test_predictions = svclassifier.predict(x_test)"
   ]
  },
  {
   "cell_type": "code",
   "execution_count": 27,
   "id": "046ff02b",
   "metadata": {},
   "outputs": [
    {
     "data": {
      "text/html": [
       "<div>\n",
       "<style scoped>\n",
       "    .dataframe tbody tr th:only-of-type {\n",
       "        vertical-align: middle;\n",
       "    }\n",
       "\n",
       "    .dataframe tbody tr th {\n",
       "        vertical-align: top;\n",
       "    }\n",
       "\n",
       "    .dataframe thead th {\n",
       "        text-align: right;\n",
       "    }\n",
       "</style>\n",
       "<table border=\"1\" class=\"dataframe\">\n",
       "  <thead>\n",
       "    <tr style=\"text-align: right;\">\n",
       "      <th></th>\n",
       "      <th>0</th>\n",
       "      <th>1</th>\n",
       "    </tr>\n",
       "  </thead>\n",
       "  <tbody>\n",
       "    <tr>\n",
       "      <th>0</th>\n",
       "      <td>3252</td>\n",
       "      <td>20</td>\n",
       "    </tr>\n",
       "    <tr>\n",
       "      <th>1</th>\n",
       "      <td>61</td>\n",
       "      <td>247</td>\n",
       "    </tr>\n",
       "  </tbody>\n",
       "</table>\n",
       "</div>"
      ],
      "text/plain": [
       "      0    1\n",
       "0  3252   20\n",
       "1    61  247"
      ]
     },
     "execution_count": 27,
     "metadata": {},
     "output_type": "execute_result"
    }
   ],
   "source": [
    "#confusion matrix on the test data\n",
    "test_conf_matrix = confusion_matrix(y_test,test_predictions)\n",
    "pd.DataFrame(test_conf_matrix,columns=svclassifier.classes_,index=svclassifier.classes_)"
   ]
  },
  {
   "cell_type": "code",
   "execution_count": 28,
   "id": "970870ca",
   "metadata": {},
   "outputs": [
    {
     "data": {
      "text/html": [
       "<div>\n",
       "<style scoped>\n",
       "    .dataframe tbody tr th:only-of-type {\n",
       "        vertical-align: middle;\n",
       "    }\n",
       "\n",
       "    .dataframe tbody tr th {\n",
       "        vertical-align: top;\n",
       "    }\n",
       "\n",
       "    .dataframe thead th {\n",
       "        text-align: right;\n",
       "    }\n",
       "</style>\n",
       "<table border=\"1\" class=\"dataframe\">\n",
       "  <thead>\n",
       "    <tr style=\"text-align: right;\">\n",
       "      <th></th>\n",
       "      <th>0</th>\n",
       "      <th>1</th>\n",
       "    </tr>\n",
       "  </thead>\n",
       "  <tbody>\n",
       "    <tr>\n",
       "      <th>0</th>\n",
       "      <td>12919</td>\n",
       "      <td>68</td>\n",
       "    </tr>\n",
       "    <tr>\n",
       "      <th>1</th>\n",
       "      <td>219</td>\n",
       "      <td>1112</td>\n",
       "    </tr>\n",
       "  </tbody>\n",
       "</table>\n",
       "</div>"
      ],
      "text/plain": [
       "       0     1\n",
       "0  12919    68\n",
       "1    219  1112"
      ]
     },
     "execution_count": 28,
     "metadata": {},
     "output_type": "execute_result"
    }
   ],
   "source": [
    "# Importing the required function\n",
    "from sklearn.metrics import confusion_matrix\n",
    "\n",
    "# Creating a confusion matrix on the training data\n",
    "train_conf_matrix = confusion_matrix(y_train,train_predictions)\n",
    "\n",
    "# Converting the train_conf_matrix into a DataFrame for better readability\n",
    "pd.DataFrame(train_conf_matrix,columns=svclassifier.classes_,index=svclassifier.classes_)"
   ]
  },
  {
   "cell_type": "code",
   "execution_count": 29,
   "id": "fcb0dcd6",
   "metadata": {},
   "outputs": [
    {
     "data": {
      "text/html": [
       "<style>#sk-container-id-2 {color: black;background-color: white;}#sk-container-id-2 pre{padding: 0;}#sk-container-id-2 div.sk-toggleable {background-color: white;}#sk-container-id-2 label.sk-toggleable__label {cursor: pointer;display: block;width: 100%;margin-bottom: 0;padding: 0.3em;box-sizing: border-box;text-align: center;}#sk-container-id-2 label.sk-toggleable__label-arrow:before {content: \"▸\";float: left;margin-right: 0.25em;color: #696969;}#sk-container-id-2 label.sk-toggleable__label-arrow:hover:before {color: black;}#sk-container-id-2 div.sk-estimator:hover label.sk-toggleable__label-arrow:before {color: black;}#sk-container-id-2 div.sk-toggleable__content {max-height: 0;max-width: 0;overflow: hidden;text-align: left;background-color: #f0f8ff;}#sk-container-id-2 div.sk-toggleable__content pre {margin: 0.2em;color: black;border-radius: 0.25em;background-color: #f0f8ff;}#sk-container-id-2 input.sk-toggleable__control:checked~div.sk-toggleable__content {max-height: 200px;max-width: 100%;overflow: auto;}#sk-container-id-2 input.sk-toggleable__control:checked~label.sk-toggleable__label-arrow:before {content: \"▾\";}#sk-container-id-2 div.sk-estimator input.sk-toggleable__control:checked~label.sk-toggleable__label {background-color: #d4ebff;}#sk-container-id-2 div.sk-label input.sk-toggleable__control:checked~label.sk-toggleable__label {background-color: #d4ebff;}#sk-container-id-2 input.sk-hidden--visually {border: 0;clip: rect(1px 1px 1px 1px);clip: rect(1px, 1px, 1px, 1px);height: 1px;margin: -1px;overflow: hidden;padding: 0;position: absolute;width: 1px;}#sk-container-id-2 div.sk-estimator {font-family: monospace;background-color: #f0f8ff;border: 1px dotted black;border-radius: 0.25em;box-sizing: border-box;margin-bottom: 0.5em;}#sk-container-id-2 div.sk-estimator:hover {background-color: #d4ebff;}#sk-container-id-2 div.sk-parallel-item::after {content: \"\";width: 100%;border-bottom: 1px solid gray;flex-grow: 1;}#sk-container-id-2 div.sk-label:hover label.sk-toggleable__label {background-color: #d4ebff;}#sk-container-id-2 div.sk-serial::before {content: \"\";position: absolute;border-left: 1px solid gray;box-sizing: border-box;top: 0;bottom: 0;left: 50%;z-index: 0;}#sk-container-id-2 div.sk-serial {display: flex;flex-direction: column;align-items: center;background-color: white;padding-right: 0.2em;padding-left: 0.2em;position: relative;}#sk-container-id-2 div.sk-item {position: relative;z-index: 1;}#sk-container-id-2 div.sk-parallel {display: flex;align-items: stretch;justify-content: center;background-color: white;position: relative;}#sk-container-id-2 div.sk-item::before, #sk-container-id-2 div.sk-parallel-item::before {content: \"\";position: absolute;border-left: 1px solid gray;box-sizing: border-box;top: 0;bottom: 0;left: 50%;z-index: -1;}#sk-container-id-2 div.sk-parallel-item {display: flex;flex-direction: column;z-index: 1;position: relative;background-color: white;}#sk-container-id-2 div.sk-parallel-item:first-child::after {align-self: flex-end;width: 50%;}#sk-container-id-2 div.sk-parallel-item:last-child::after {align-self: flex-start;width: 50%;}#sk-container-id-2 div.sk-parallel-item:only-child::after {width: 0;}#sk-container-id-2 div.sk-dashed-wrapped {border: 1px dashed gray;margin: 0 0.4em 0.5em 0.4em;box-sizing: border-box;padding-bottom: 0.4em;background-color: white;}#sk-container-id-2 div.sk-label label {font-family: monospace;font-weight: bold;display: inline-block;line-height: 1.2em;}#sk-container-id-2 div.sk-label-container {text-align: center;}#sk-container-id-2 div.sk-container {/* jupyter's `normalize.less` sets `[hidden] { display: none; }` but bootstrap.min.css set `[hidden] { display: none !important; }` so we also need the `!important` here to be able to override the default hidden behavior on the sphinx rendered scikit-learn.org. See: https://github.com/scikit-learn/scikit-learn/issues/21755 */display: inline-block !important;position: relative;}#sk-container-id-2 div.sk-text-repr-fallback {display: none;}</style><div id=\"sk-container-id-2\" class=\"sk-top-container\"><div class=\"sk-text-repr-fallback\"><pre>DecisionTreeClassifier(max_depth=5)</pre><b>In a Jupyter environment, please rerun this cell to show the HTML representation or trust the notebook. <br />On GitHub, the HTML representation is unable to render, please try loading this page with nbviewer.org.</b></div><div class=\"sk-container\" hidden><div class=\"sk-item\"><div class=\"sk-estimator sk-toggleable\"><input class=\"sk-toggleable__control sk-hidden--visually\" id=\"sk-estimator-id-2\" type=\"checkbox\" checked><label for=\"sk-estimator-id-2\" class=\"sk-toggleable__label sk-toggleable__label-arrow\">DecisionTreeClassifier</label><div class=\"sk-toggleable__content\"><pre>DecisionTreeClassifier(max_depth=5)</pre></div></div></div></div></div>"
      ],
      "text/plain": [
       "DecisionTreeClassifier(max_depth=5)"
      ]
     },
     "execution_count": 29,
     "metadata": {},
     "output_type": "execute_result"
    }
   ],
   "source": [
    "from sklearn.tree import DecisionTreeClassifier\n",
    "dtcls=DecisionTreeClassifier(criterion=\"gini\",max_depth=5)\n",
    "dtcls.fit(x_train,y_train)"
   ]
  },
  {
   "cell_type": "code",
   "execution_count": 30,
   "id": "c9220a13",
   "metadata": {},
   "outputs": [],
   "source": [
    "yp_dt=dtcls.predict(x_test)\n",
    "#predicting test output using built model"
   ]
  },
  {
   "cell_type": "code",
   "execution_count": 31,
   "id": "b8c5025b",
   "metadata": {},
   "outputs": [
    {
     "name": "stdout",
     "output_type": "stream",
     "text": [
      "              precision    recall  f1-score   support\n",
      "\n",
      "           0       0.98      0.99      0.99      3272\n",
      "           1       0.91      0.78      0.84       308\n",
      "\n",
      "    accuracy                           0.97      3580\n",
      "   macro avg       0.95      0.89      0.91      3580\n",
      "weighted avg       0.97      0.97      0.97      3580\n",
      "\n"
     ]
    }
   ],
   "source": [
    "# Importing the required function\n",
    "from sklearn.metrics import classification_report\n",
    "\n",
    "# Generating the report and printing the same\n",
    "print(classification_report(y_test,yp_dt))"
   ]
  },
  {
   "cell_type": "code",
   "execution_count": 32,
   "id": "5590c4ab",
   "metadata": {},
   "outputs": [],
   "source": [
    "#predicting targets based on the model built\n",
    "train_predictions = dtcls.predict(x_train)\n",
    "test_predictions = dtcls.predict(x_test)"
   ]
  },
  {
   "cell_type": "code",
   "execution_count": 33,
   "id": "9ecd58df",
   "metadata": {},
   "outputs": [
    {
     "data": {
      "text/html": [
       "<div>\n",
       "<style scoped>\n",
       "    .dataframe tbody tr th:only-of-type {\n",
       "        vertical-align: middle;\n",
       "    }\n",
       "\n",
       "    .dataframe tbody tr th {\n",
       "        vertical-align: top;\n",
       "    }\n",
       "\n",
       "    .dataframe thead th {\n",
       "        text-align: right;\n",
       "    }\n",
       "</style>\n",
       "<table border=\"1\" class=\"dataframe\">\n",
       "  <thead>\n",
       "    <tr style=\"text-align: right;\">\n",
       "      <th></th>\n",
       "      <th>0</th>\n",
       "      <th>1</th>\n",
       "    </tr>\n",
       "  </thead>\n",
       "  <tbody>\n",
       "    <tr>\n",
       "      <th>0</th>\n",
       "      <td>3249</td>\n",
       "      <td>23</td>\n",
       "    </tr>\n",
       "    <tr>\n",
       "      <th>1</th>\n",
       "      <td>67</td>\n",
       "      <td>241</td>\n",
       "    </tr>\n",
       "  </tbody>\n",
       "</table>\n",
       "</div>"
      ],
      "text/plain": [
       "      0    1\n",
       "0  3249   23\n",
       "1    67  241"
      ]
     },
     "execution_count": 33,
     "metadata": {},
     "output_type": "execute_result"
    }
   ],
   "source": [
    "#confusion matrix on the test data\n",
    "test_conf_matrix = confusion_matrix(y_test,test_predictions)\n",
    "pd.DataFrame(test_conf_matrix,columns=dtcls.classes_,index=dtcls.classes_)"
   ]
  },
  {
   "cell_type": "code",
   "execution_count": 34,
   "id": "707ec5b7",
   "metadata": {},
   "outputs": [],
   "source": [
    "from sklearn.neighbors import KNeighborsClassifier\n",
    "knnc = KNeighborsClassifier(n_neighbors=3)\n",
    "knnc.fit(x_train, y_train)\n",
    "knn_pred= knnc.predict(x_test)"
   ]
  },
  {
   "cell_type": "code",
   "execution_count": 35,
   "id": "506761cd",
   "metadata": {},
   "outputs": [],
   "source": [
    "#predicting targets based on the model built\n",
    "train_predictions = knnc.predict(x_train)\n",
    "test_predictions = knnc.predict(x_test)"
   ]
  },
  {
   "cell_type": "code",
   "execution_count": 36,
   "id": "72ff768c",
   "metadata": {},
   "outputs": [
    {
     "data": {
      "text/html": [
       "<div>\n",
       "<style scoped>\n",
       "    .dataframe tbody tr th:only-of-type {\n",
       "        vertical-align: middle;\n",
       "    }\n",
       "\n",
       "    .dataframe tbody tr th {\n",
       "        vertical-align: top;\n",
       "    }\n",
       "\n",
       "    .dataframe thead th {\n",
       "        text-align: right;\n",
       "    }\n",
       "</style>\n",
       "<table border=\"1\" class=\"dataframe\">\n",
       "  <thead>\n",
       "    <tr style=\"text-align: right;\">\n",
       "      <th></th>\n",
       "      <th>0</th>\n",
       "      <th>1</th>\n",
       "    </tr>\n",
       "  </thead>\n",
       "  <tbody>\n",
       "    <tr>\n",
       "      <th>0</th>\n",
       "      <td>3225</td>\n",
       "      <td>47</td>\n",
       "    </tr>\n",
       "    <tr>\n",
       "      <th>1</th>\n",
       "      <td>77</td>\n",
       "      <td>231</td>\n",
       "    </tr>\n",
       "  </tbody>\n",
       "</table>\n",
       "</div>"
      ],
      "text/plain": [
       "      0    1\n",
       "0  3225   47\n",
       "1    77  231"
      ]
     },
     "execution_count": 36,
     "metadata": {},
     "output_type": "execute_result"
    }
   ],
   "source": [
    "#confusion matrix on the test data\n",
    "test_conf_matrix = confusion_matrix(y_test,test_predictions)\n",
    "pd.DataFrame(test_conf_matrix,columns=knnc.classes_,index=knnc.classes_)"
   ]
  },
  {
   "cell_type": "code",
   "execution_count": 37,
   "id": "543feba4",
   "metadata": {},
   "outputs": [
    {
     "name": "stdout",
     "output_type": "stream",
     "text": [
      "              precision    recall  f1-score   support\n",
      "\n",
      "           0       0.98      0.99      0.98      3272\n",
      "           1       0.83      0.75      0.79       308\n",
      "\n",
      "    accuracy                           0.97      3580\n",
      "   macro avg       0.90      0.87      0.88      3580\n",
      "weighted avg       0.96      0.97      0.96      3580\n",
      "\n"
     ]
    }
   ],
   "source": [
    "# Importing the required function\n",
    "from sklearn.metrics import classification_report\n",
    "\n",
    "# Generating the report and printing the same\n",
    "print(classification_report(y_test,knn_pred))"
   ]
  },
  {
   "cell_type": "code",
   "execution_count": null,
   "id": "f4ec4476",
   "metadata": {},
   "outputs": [],
   "source": []
  }
 ],
 "metadata": {
  "kernelspec": {
   "display_name": "Python 3",
   "language": "python",
   "name": "python3"
  },
  "language_info": {
   "codemirror_mode": {
    "name": "ipython",
    "version": 3
   },
   "file_extension": ".py",
   "mimetype": "text/x-python",
   "name": "python",
   "nbconvert_exporter": "python",
   "pygments_lexer": "ipython3",
   "version": "3.8.8"
  }
 },
 "nbformat": 4,
 "nbformat_minor": 5
}
